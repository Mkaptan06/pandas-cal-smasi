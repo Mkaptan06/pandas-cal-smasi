{
 "cells": [
  {
   "cell_type": "code",
   "execution_count": 2,
   "id": "ab327026-2592-484a-86b0-bba2f254addc",
   "metadata": {},
   "outputs": [
    {
     "ename": "ModuleNotFoundError",
     "evalue": "No module named 'pandas'",
     "output_type": "error",
     "traceback": [
      "\u001b[31m---------------------------------------------------------------------------\u001b[39m",
      "\u001b[31mModuleNotFoundError\u001b[39m                       Traceback (most recent call last)",
      "\u001b[36mCell\u001b[39m\u001b[36m \u001b[39m\u001b[32mIn[2]\u001b[39m\u001b[32m, line 1\u001b[39m\n\u001b[32m----> \u001b[39m\u001b[32m1\u001b[39m \u001b[38;5;28;01mimport\u001b[39;00m\u001b[38;5;250m \u001b[39m\u001b[34;01mpandas\u001b[39;00m\u001b[38;5;250m \u001b[39m\u001b[38;5;28;01mas\u001b[39;00m\u001b[38;5;250m \u001b[39m\u001b[34;01mpd\u001b[39;00m\n\u001b[32m      3\u001b[39m \u001b[38;5;66;03m# Örnek bir DataFrame oluşturalım\u001b[39;00m\n\u001b[32m      4\u001b[39m data = {\n\u001b[32m      5\u001b[39m     \u001b[33m\"\u001b[39m\u001b[33mAd\u001b[39m\u001b[33m\"\u001b[39m: [\u001b[33m\"\u001b[39m\u001b[33mAhmet\u001b[39m\u001b[33m\"\u001b[39m, \u001b[33m\"\u001b[39m\u001b[33mMehmet\u001b[39m\u001b[33m\"\u001b[39m, \u001b[33m\"\u001b[39m\u001b[33mAyşe\u001b[39m\u001b[33m\"\u001b[39m, \u001b[33m\"\u001b[39m\u001b[33mFatma\u001b[39m\u001b[33m\"\u001b[39m],\n\u001b[32m      6\u001b[39m     \u001b[33m\"\u001b[39m\u001b[33mYaş\u001b[39m\u001b[33m\"\u001b[39m: [\u001b[32m25\u001b[39m, \u001b[32m30\u001b[39m, \u001b[32m22\u001b[39m, \u001b[32m35\u001b[39m],\n\u001b[32m      7\u001b[39m     \u001b[33m\"\u001b[39m\u001b[33mMaaş\u001b[39m\u001b[33m\"\u001b[39m: [\u001b[32m5000\u001b[39m, \u001b[32m7000\u001b[39m, \u001b[32m4500\u001b[39m, \u001b[32m8000\u001b[39m]\n\u001b[32m      8\u001b[39m }\n",
      "\u001b[31mModuleNotFoundError\u001b[39m: No module named 'pandas'"
     ]
    }
   ],
   "source": [
    "import pandas as pd\n",
    "\n",
    "# Örnek bir DataFrame oluşturalım\n",
    "data = {\n",
    "    \"Ad\": [\"Ahmet\", \"Mehmet\", \"Ayşe\", \"Fatma\"],\n",
    "    \"Yaş\": [25, 30, 22, 35],\n",
    "    \"Maaş\": [5000, 7000, 4500, 8000]\n",
    "}\n",
    "df = pd.DataFrame(data)\n",
    "\n",
    "# 1. DataFrame’i ekrana yazdır\n",
    "print(\"\\n1. DataFrame:\\n\", df)\n",
    "\n",
    "# 2. DataFrame hakkında bilgi\n",
    "print(\"\\n2. DataFrame Bilgileri:\")\n",
    "df.info()\n",
    "\n",
    "# 3. Temel istatistikleri göster (hem sayısal hem de kategorik veriler için)\n",
    "print(\"\\n3. Temel İstatistikler:\\n\", df.describe(include=\"all\"))\n",
    "\n",
    "# 4. 'Yaş' sütununu seç\n",
    "print(\"\\n4. 'Yaş' Sütunu:\\n\", df[\"Yaş\"])\n",
    "\n",
    "# 5. Maaşı 6000'den büyük olanları filtrele\n",
    "print(\"\\n5. Maaşı 6000'den büyük olanlar:\\n\", df[df[\"Maaş\"] > 6000])\n",
    "\n",
    "# 6. Yeni bir sütun ekleme (Zamlı Maaş)\n",
    "df[\"Zamlı Maaş\"] = df[\"Maaş\"] * 1.1\n",
    "print(\"\\n6. Yeni Sütun Eklenmiş DataFrame:\\n\", df)\n",
    "\n",
    "# 7. Eksik değerleri kontrol et\n",
    "print(\"\\n7. Eksik Değer Kontrolü:\\n\", df.isnull().sum())\n",
    "\n",
    "# 8. Maaşa göre sıralama (Büyükten küçüğe)\n",
    "print(\"\\n8. Maaşa Göre Sıralama:\\n\", df.sort_values(by=\"Maaş\", ascending=False))\n",
    "\n",
    "# 9. Yaşa göre ortalama maaş (küçük veri setinde pek anlamlı değil ama yine de gösterelim)\n",
    "print(\"\\n9. Yaşa Göre Ortalama Maaş:\\n\", df.groupby(\"Yaş\")[\"Maaş\"].mean())\n",
    "\n",
    "# 10. Ortalama maaşı hesapla ve yazdır\n",
    "ortalama_maas = df[\"Maaş\"].mean()\n",
    "print(f\"\\n10. Ortalama Maaş: {ortalama_maas:.2f} TL\")"
   ]
  },
  {
   "cell_type": "code",
   "execution_count": null,
   "id": "8ef6b7d0-679b-461c-9435-23cb7130f758",
   "metadata": {},
   "outputs": [],
   "source": []
  }
 ],
 "metadata": {
  "kernelspec": {
   "display_name": "Python 3 (ipykernel)",
   "language": "python",
   "name": "python3"
  },
  "language_info": {
   "codemirror_mode": {
    "name": "ipython",
    "version": 3
   },
   "file_extension": ".py",
   "mimetype": "text/x-python",
   "name": "python",
   "nbconvert_exporter": "python",
   "pygments_lexer": "ipython3",
   "version": "3.13.1"
  }
 },
 "nbformat": 4,
 "nbformat_minor": 5
}
